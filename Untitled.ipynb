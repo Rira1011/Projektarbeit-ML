{
 "cells": [
  {
   "cell_type": "code",
   "execution_count": null,
   "id": "8c5580bd-68da-44fe-82fd-b383eccafccb",
   "metadata": {},
   "outputs": [],
   "source": [
    "# Import necessary packages\n",
    "import pkg_resources\n",
    "\n",
    "# List of packages to check versions\n",
    "packages = [\n",
    "    'numpy',\n",
    "    'pandas',\n",
    "    'plotly',\n",
    "    'scikit-learn',\n",
    "    'missingno'\n",
    "    # Add more packages as needed\n",
    "]\n",
    "\n",
    "# Function to get package version\n",
    "def get_version(package):\n",
    "    try:\n",
    "        return pkg_resources.get_distribution(package).version\n",
    "    except pkg_resources.DistributionNotFound:\n",
    "        return f\"{package} not found\"\n",
    "\n",
    "# Create a dictionary to store package versions\n",
    "version_dict = {package: get_version(package) for package in packages}\n",
    "\n",
    "# Print and save to a text file\n",
    "with open('package_versions.txt', 'w') as file:\n",
    "    for package, version in version_dict.items():\n",
    "        print(f\"{package}: {version}\")\n",
    "        file.write(f\"{package}: {version}\\n\")\n",
    "\n",
    "print(\"Package versions saved to 'package_versions.txt'\")\n"
   ]
  }
 ],
 "metadata": {
  "kernelspec": {
   "display_name": "Python 3 (ipykernel)",
   "language": "python",
   "name": "python3"
  },
  "language_info": {
   "codemirror_mode": {
    "name": "ipython",
    "version": 3
   },
   "file_extension": ".py",
   "mimetype": "text/x-python",
   "name": "python",
   "nbconvert_exporter": "python",
   "pygments_lexer": "ipython3",
   "version": "3.11.5"
  }
 },
 "nbformat": 4,
 "nbformat_minor": 5
}
